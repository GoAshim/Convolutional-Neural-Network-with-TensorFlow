{
  "nbformat": 4,
  "nbformat_minor": 0,
  "metadata": {
    "colab": {
      "provenance": [],
      "gpuType": "T4",
      "authorship_tag": "ABX9TyNq7fYfCU6w0jLjuzyB+VcC",
      "include_colab_link": true
    },
    "kernelspec": {
      "name": "python3",
      "display_name": "Python 3"
    },
    "language_info": {
      "name": "python"
    },
    "accelerator": "GPU"
  },
  "cells": [
    {
      "cell_type": "markdown",
      "metadata": {
        "id": "view-in-github",
        "colab_type": "text"
      },
      "source": [
        "<a href=\"https://colab.research.google.com/github/GoAshim/Convolutional-Neural-Network-with-TensorFlow/blob/main/01_Binary_Classification_in_CNN_with_Tensorflow_Predict_Dog_vs_Cat.ipynb\" target=\"_parent\"><img src=\"https://colab.research.google.com/assets/colab-badge.svg\" alt=\"Open In Colab\"/></a>"
      ]
    },
    {
      "cell_type": "markdown",
      "source": [
        "# Binary Classification in Convolutional Neural Network (CNN) using TensorFlow & Keras\n",
        "In this project we will build CNN Deep Learning model and train it with lots of pictures of dogs and cats so that the model will be able to predict from a new image whether it's of a dog or a cat."
      ],
      "metadata": {
        "id": "IQoJ951GRQAs"
      }
    },
    {
      "cell_type": "markdown",
      "source": [
        "## Step 1 - Import necessary libraries"
      ],
      "metadata": {
        "id": "5o6ZWrQrSLw6"
      }
    },
    {
      "cell_type": "code",
      "source": [
        "# For data import and extraction\n",
        "import zipfile\n",
        "\n",
        "# For data processing\n",
        "import numpy as np\n",
        "\n",
        "# For Convolutional Neural Network (CNN)\n",
        "import tensorflow as tf\n",
        "from tensorflow import keras\n",
        "from keras.models import Sequential\n",
        "from keras.layers import Dense, Conv2D, MaxPooling2D, Flatten, Dropout\n"
      ],
      "metadata": {
        "id": "LTbZJ8PVSdbv"
      },
      "execution_count": 6,
      "outputs": []
    },
    {
      "cell_type": "markdown",
      "source": [
        "## Step 2 - Import Data\n",
        "We will get the images for this exercise from this [link in Kaggle](https://www.kaggle.com/datasets/salader/dogs-vs-cats).\n",
        "\n",
        "We can download the images from Kaggle to our computer and then upload those into the Google Colab working environment. However an easier option is to get them from Kaggle directly into the Google Colab working environment. To do that we have to first create an API token in Kaggle by following the steps below -\n",
        "* Sign in to Kaggle.\n",
        "* Click on the profile icon at the top left.\n",
        "* Click on Settings.\n",
        "* Go to the Account (first) tab.\n",
        "* Scroll down to API section.\n",
        "* Click on *Create New Token*.\n",
        "* This will download a fiile named *kaggle.json*.\n",
        "* Upload that file into Google Colab.\n",
        "  * Click on Files (Folder icon) on the left menu bar of colab.\n",
        "  * Click on Upload to session storage (first icon on top under Files).\n",
        "  * Upload the kaggle.json file from where it was downloaded in computer.\n"
      ],
      "metadata": {
        "id": "9PO26ipXSfUx"
      }
    },
    {
      "cell_type": "code",
      "source": [
        "# Create a .kaggle folder under root directory of colab\n",
        "!mkdir -p /root/.kaggle"
      ],
      "metadata": {
        "id": "LrCV0pHiSjV-"
      },
      "execution_count": 2,
      "outputs": []
    },
    {
      "cell_type": "code",
      "source": [
        "# Copy the kaggle.json file to the vewly created directory\n",
        "!cp /content/kaggle.json /root/.kaggle/"
      ],
      "metadata": {
        "id": "hfGeAx70aL4S"
      },
      "execution_count": 3,
      "outputs": []
    },
    {
      "cell_type": "code",
      "source": [
        "# Copy the API command from the download option of the Kaggle dataset and execute that command\n",
        "# This will download the images in form of a zip file\n",
        "!kaggle datasets download -d salader/dogs-vs-cats"
      ],
      "metadata": {
        "colab": {
          "base_uri": "https://localhost:8080/"
        },
        "id": "wg6T4Nbzlkwv",
        "outputId": "a99bc0e1-b46f-4e15-d53f-05ae1f4a023e"
      },
      "execution_count": 4,
      "outputs": [
        {
          "output_type": "stream",
          "name": "stdout",
          "text": [
            "Warning: Your Kaggle API key is readable by other users on this system! To fix this, you can run 'chmod 600 /root/.kaggle/kaggle.json'\n",
            "Downloading dogs-vs-cats.zip to /content\n",
            " 98% 1.04G/1.06G [00:09<00:00, 235MB/s]\n",
            "100% 1.06G/1.06G [00:09<00:00, 122MB/s]\n"
          ]
        }
      ]
    },
    {
      "cell_type": "code",
      "source": [
        "# Extract the images from the zip file\n",
        "\n",
        "zip = zipfile.ZipFile('/content/dogs-vs-cats.zip', 'r')\n",
        "zip.extractall('/content')\n",
        "zip.close()"
      ],
      "metadata": {
        "id": "vQWNzxmCH4zZ"
      },
      "execution_count": 5,
      "outputs": []
    }
  ]
}